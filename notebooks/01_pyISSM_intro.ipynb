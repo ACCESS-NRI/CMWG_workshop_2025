{
 "cells": [
  {
   "cell_type": "markdown",
   "id": "89b6735a-ca8f-4992-93ab-dcb8e9186d06",
   "metadata": {
    "tags": []
   },
   "source": [
    "# ACCESS-NRI 2025 -- CMWG Workshop \n",
    "# Introduction to pyISSM\n",
    "\n",
    "`pyISSM` is the Python API for the Ice-sheet and Sea-level System Model (ISSM) under development by ACCESS-NRI. This notebook provides an intial introduction to using pyISSM (v0.1) to load and navigate ISSM models.\n",
    "\n",
    "`pyISSM` contains 5 primary sub-modules:\n",
    "- `pyissm.plot`: Visualisation tools to support plotting of ISSM model components.\n",
    "- `pyissm.param`: All model sub-classes used to parameterise ISSM models.\n",
    "- `pyissm.data`: Tools for accessing and integrated common cryosphere-related datasets onto ISSM models.\n",
    "- `pyissm.model`: Tools for interacting with ISSM models, including model IO.\n",
    "- `pyissm.learn`: Tutorials and examples of working with ISSM models."
   ]
  },
  {
   "cell_type": "markdown",
   "id": "f1d269f4-2e74-4b40-9460-21c7bdeac340",
   "metadata": {},
   "source": [
    "<div class=\"alert alert-block alert-info\">\n",
    "<b>AIM:</b> This notebook focuses on exploring existing ISSM models using pyISSM to ensure users are familiar with ISSM model structures before continuing onto model visualisation.\n",
    "</div>"
   ]
  },
  {
   "cell_type": "code",
   "execution_count": 1,
   "id": "089e2f5b-f0df-451e-9946-637fe58a1f0d",
   "metadata": {},
   "outputs": [],
   "source": [
    "# Import required modules\n",
    "import numpy as np\n",
    "\n",
    "# Import pyISSM\n",
    "# NOTE: Here, we assume that the `pyISSM` git repository has been cloned onto your machine. If `pyISSM` has been installed using `conda`, skip the `sys` calls.\n",
    "import sys\n",
    "import socket\n",
    "hostname = socket.gethostname()\n",
    "if 'gadi' in hostname:\n",
    "    sys.path.append('/g/data/nf33/access-nri/pyISSM/src/')\n",
    "else:\n",
    "    sys.path.append('/Users/lawrence.bird/pyISSM/src/')\n",
    "import pyissm"
   ]
  },
  {
   "cell_type": "markdown",
   "id": "1e3d95e3-7627-430c-9b51-e983ad98bf14",
   "metadata": {
    "tags": []
   },
   "source": [
    "# 1. pyISSM `Model()` Class"
   ]
  },
  {
   "cell_type": "markdown",
   "id": "f70101b1-3531-4399-bf53-2323c0cef8e6",
   "metadata": {},
   "source": [
    "`pyISSM` is developed around a central `Model()` class. Each Model contains a series of sub-classes that define model components and parameters (e.g. `mesh`, `geometry`). Each Model and sub-class contains detailed information that can be interrogated/explored interractively. \n",
    "\n",
    "Below, let's load an existing model and explore some of the sub-classes."
   ]
  },
  {
   "cell_type": "code",
   "execution_count": 2,
   "id": "d3eb1ffc-8676-41e1-9c07-c96a22535d8b",
   "metadata": {},
   "outputs": [
    {
     "name": "stdout",
     "output_type": "stream",
     "text": [
      "ℹ️ Legacy classtype 'mesh2d.mesh2d' mapped to 'mesh.mesh2d'\n",
      "ℹ️ Legacy classtype 'SMBforcing.SMBforcing' mapped to 'smb.default'\n",
      "⚠️️ classtype does not exist for group basalforcings. Skipping...\n",
      "ℹ️ Legacy classtype 'matice.matice' mapped to 'materials.ice'\n",
      "ℹ️ Legacy classtype 'friction.friction' mapped to 'friction.default'\n",
      "ℹ️ Legacy classtype 'timestepping.timestepping' mapped to 'timestepping.default'\n",
      "ℹ️ Legacy classtype 'dsl.dsl' mapped to 'dsl.default'\n",
      "ℹ️ Legacy classtype 'solidearth.solidearth' mapped to 'solidearth.earth'\n",
      "⚠️ Unknown classtype verbose.verbose. Skipping...\n",
      "⚠️ Unknown classtype toolkits.toolkits. Skipping...\n",
      "⚠️ Unknown classtype gadi.gadi. Skipping...\n",
      "ℹ️ Legacy classtype 'hydrologyshreve.hydrologyshreve' mapped to 'hydrology.shreve'\n",
      "ℹ️ Legacy classtype 'calving.calving' mapped to 'calving.default'\n",
      "ℹ️ Legacy classtype 'frontalforcings.frontalforcings' mapped to 'frontalforcings.default'\n",
      "ℹ️ Legacy classtype 'love.love' mapped to 'love.default'\n",
      "ℹ️ Legacy classtype 'm1qn3inversion.m1qn3inversion' mapped to 'inversion.m1qn3'\n",
      "ℹ️ Processing results group: StressbalanceSolution\n",
      "ℹ️ Processing results group: ThermalSolution\n",
      "ℹ️ Processing results group: TransientSolution\n"
     ]
    }
   ],
   "source": [
    "# Load an existing ISSM model onto md\n",
    "\n",
    "if 'gadi' in hostname:\n",
    "    # md = pyissm.model.io.load_model('/g/data/nf33/access-nri/CMWG_workshop_2025/sample_models/Greenland.HistoricTransient_200yr.nc')\n",
    "    md = pyissm.model.io.load_model('/g/data/nf33/access-nri/CMWG_workshop_2025/sample_models/zrun_yearly_aSMB_HadGEM2_ctrl_2300_again.nc')\n",
    "else:\n",
    "    md = pyissm.model.io.load_model('/Users/lawrence.bird/access-dev/sampleModels/Greenland.HistoricTransient_200yr.nc')"
   ]
  },
  {
   "cell_type": "markdown",
   "id": "b614de7a-146e-44a7-9bee-66c643055e8b",
   "metadata": {},
   "source": [
    "<div class=\"alert alert-block alert-warning\">\n",
    "<b>Backwards-compatability:</b> A series of informative warnings are provided. These highlight \"re-mapping\" that is completed to ensure backwards-compatibility with ISSM models developed using legacy Python infrastructure and in MATLAB. Any sub-classes that are not yet implemented in pyISSM are highlighted (e.g. verbose, toolkits, generic). Any classes that are missing in the model file are highlighted (e.g. basalforcings).\n",
    "</div>"
   ]
  },
  {
   "cell_type": "code",
   "execution_count": 3,
   "id": "4116fad7-0f4a-41a7-97be-5c7765e47915",
   "metadata": {},
   "outputs": [
    {
     "data": {
      "text/plain": [
       "   ISSM Model Class                         \n",
       "                                            \n",
       "               mesh:  mesh properties         \n",
       "               mask:  defines grounded and gloating elements \n",
       "           geometry:  surface elevation, bedrock topography, ice thickness, ... \n",
       "          constants:  physical constants      \n",
       "                smb:  surface mass balance    \n",
       "      basalforcings:  bed forcings            \n",
       "          materials:  material properties     \n",
       "             damage:  damage propagation laws \n",
       "           friction:  basal friction / drag properties \n",
       "       flowequation:  flow equations          \n",
       "       timestepping:  timestepping for transient models \n",
       "     initialization:  initial guess / state   \n",
       "              rifts:  rifts properties        \n",
       "         solidearth:  solidearth inputs and settings \n",
       "                dsl:  dynamic sea level       \n",
       "              debug:  debugging tools (valgrind, gprof \n",
       "            verbose:  verbosity level in solve \n",
       "           settings:  settings properties     \n",
       "           toolkits:  PETSc options for each solution \n",
       "            cluster:  cluster parameters (number of CPUs...) \n",
       "   balancethickness:  parameters for balancethickness solution \n",
       "      stressbalance:  parameters for stressbalance solution \n",
       "      groundingline:  parameters for groundingline solution \n",
       "          hydrology:  parameters for hydrology solution \n",
       "      masstransport:  parameters for masstransport solution \n",
       "            thermal:  parameters fo thermal solution \n",
       "        steadystate:  parameters for steadystate solution \n",
       "          transient:  parameters for transient solution \n",
       "           levelset:  parameters for moving boundaries (level-set method) \n",
       "            calving:  parameters for calving  \n",
       "    frontalforcings:  parameters for frontalforcings \n",
       "                esa:  parameters for elastic adjustment solution \n",
       "           sampling:  parameters for stochastic sampler \n",
       "               love:  parameters for love solution \n",
       "           autodiff:  automatic differentiation parameters \n",
       "          inversion:  parameters for inverse methods \n",
       "                qmu:  Dakota properties       \n",
       "                amr:  adaptive mesh refinement properties \n",
       "   outputdefinition:  output definition       \n",
       "            results:  modelresults            \n",
       "       radaroverlay:  radar image for plot overlay \n",
       "      miscellaneous:  miscellaneous fields    \n",
       "  stochasticforcing:  stochasticity applied to model forcings "
      ]
     },
     "execution_count": 3,
     "metadata": {},
     "output_type": "execute_result"
    }
   ],
   "source": [
    "# Simply examining the md object reveals the sub-classes included in all ISSM models.\n",
    "\n",
    "md"
   ]
  },
  {
   "cell_type": "markdown",
   "id": "34d9ac89-48aa-43c4-9bf4-0c9d236d42a8",
   "metadata": {
    "tags": []
   },
   "source": [
    "# 2. `pyISSM` Model sub-classes\n",
    "\n",
    "Above, we can see that the ISSM `Model()` class comprises 43 model sub-classes. Each sub-class contains specific model parameters and settings that control the model behaviour. For example, `md.mesh` contains all of the mesh parameters and `md.geometry` contains all of the initial geometry fields (e.g. bed topography, surface elevation, ice thickness etc.).\n",
    "\n",
    "Parameters within each model subclass are assigned/accessed using standard `.` notation. For example, bed topography can be assigned/accessed as `md.geometry.bed` and the ice thickness can be assigned/accessed as `md.geometry.thickness`.\n",
    "\n",
    "Most data fields contained in model sub-classes are `numpy.ndarray` classes under-the-hood. This ensures they're easily accessible and can be manipulated with other popular Python modules.\n",
    "\n",
    "Let's explore a few different model sub-classes in the cells below."
   ]
  },
  {
   "cell_type": "markdown",
   "id": "317289f8-7277-4f27-94f2-0d3cd171cece",
   "metadata": {},
   "source": [
    "## 2.1 `md.mesh`\n",
    "\n",
    "Let's review the `md.mesh` sub-class. Accessing the `md.mesh` sub-class shows the parameters/data fields available and their associated shape/size or scalar value."
   ]
  },
  {
   "cell_type": "code",
   "execution_count": 4,
   "id": "60fcd2f5-e91f-4d6d-82ab-d41e45f38f02",
   "metadata": {},
   "outputs": [
    {
     "data": {
      "text/plain": [
       "   2D tria Mesh (horizontal):\n",
       "      Elements and vertices:\n",
       "         numberofelements       : 199226          -- number of elements\n",
       "         numberofvertices       : 99870           -- number of vertices\n",
       "         elements               : (199226, 3)     -- vertex indices of the mesh elements\n",
       "         x                      : (99870,)        -- vertices x coordinate [m]\n",
       "         y                      : (99870,)        -- vertices y coordinate [m]\n",
       "         edges                  : (299095, 4)     -- edges of the 2d mesh (vertex1 vertex2 element1 element2)\n",
       "         numberofedges          : 299095          -- number of edges of the 2d mesh\n",
       "\n",
       "      Properties:\n",
       "         vertexonboundary       : (99870,)        -- vertices on the boundary of the domain flag list\n",
       "         segments               : (512, 3)        -- edges on domain boundary (vertex1 vertex2 element)\n",
       "         segmentmarkers         : (512,)          -- number associated to each segment\n",
       "         vertexconnectivity     : N/A             -- list of elements connected to vertex_i\n",
       "         elementconnectivity    : (199226, 3)     -- list of elements adjacent to element_i\n",
       "         average_vertex_conne...: 25              -- average number of vertices connected to one vertex\n",
       "\n",
       "      Extracted model:\n",
       "         extractedvertices      : N/A             -- vertices extracted from the model\n",
       "         extractedelements      : N/A             -- elements extracted from the model\n",
       "\n",
       "      Projection:\n",
       "         lat                    : (99870,)        -- vertices latitude [degrees]\n",
       "         long                   : (99870,)        -- vertices longitude [degrees]\n",
       "         epsg                   : 3031            -- EPSG code (ex: 3413 for UPS Greenland, 3031 for UPS Antarctica)\n",
       "         scale_factor           : (99870,)        -- Projection correction for volume, area, etc. computation"
      ]
     },
     "execution_count": 4,
     "metadata": {},
     "output_type": "execute_result"
    }
   ],
   "source": [
    "# Access the model mesh\n",
    "md.mesh"
   ]
  },
  {
   "cell_type": "markdown",
   "id": "5441ffed-b141-4b9f-92d4-4d39fdfae1a7",
   "metadata": {},
   "source": [
    "Within ISSM, data fields are typically defined on model vertices, or model elements. Above, we see that this model has 199,226 elements and 99,870 elements. The vertices are defined by the X and Y coordinates.\n",
    "\n",
    "We can extract the X/Y coordinates as numpy arrays:"
   ]
  },
  {
   "cell_type": "code",
   "execution_count": 5,
   "id": "e6f5a22d-5afd-401b-b395-d3077d45a9a2",
   "metadata": {},
   "outputs": [
    {
     "name": "stdout",
     "output_type": "stream",
     "text": [
      "Model x-coordinates [m]: [-2454342.45605584 -2336563.52347844 -2229491.76658989 ...\n",
      "  1136689.51706827  1381652.71625784 -2576497.06419619]\n",
      "\n",
      "Model y-coordinates [m]: [ 1729886.94743119  1612108.01485379  1467561.14305425 ...\n",
      " -2061844.23304862  1713053.24915904  1706247.23560796]\n"
     ]
    }
   ],
   "source": [
    "# Extract the X and Y coordinates from the model mesh\n",
    "x = md.mesh.x\n",
    "y = md.mesh.y\n",
    "\n",
    "# The extracted coordinates are simply numpy arrays\n",
    "print(f'Model x-coordinates [m]: {x}\\n')\n",
    "print(f'Model y-coordinates [m]: {y}')"
   ]
  },
  {
   "cell_type": "markdown",
   "id": "ce658a85-5410-421c-8536-712b87020f95",
   "metadata": {},
   "source": [
    "## 2.2 `md.geometry`\n",
    "\n",
    "Let's review the `md.geometrty` sub-class. Accessing the `md.geometry` sub-class shows the parameters/data fields available and their associated shape/size."
   ]
  },
  {
   "cell_type": "code",
   "execution_count": 6,
   "id": "21aed277-703d-4e5d-bc1b-dd8463a1246e",
   "metadata": {},
   "outputs": [
    {
     "data": {
      "text/plain": [
       "   geometry parameters:\n",
       "         surface                : (99870,)        -- ice upper surface elevation [m]\n",
       "         thickness              : (99870,)        -- ice thickness [m]\n",
       "         base                   : (99870,)        -- ice base elevation [m]\n",
       "         bed                    : (99870,)        -- bed elevation [m]\n",
       "         hydrostatic_ratio      : N/A             -- hydrostatic ratio for floating ice"
      ]
     },
     "execution_count": 6,
     "metadata": {},
     "output_type": "execute_result"
    }
   ],
   "source": [
    "md.geometry"
   ]
  },
  {
   "cell_type": "markdown",
   "id": "a5ed9a99-d95e-4869-8ef9-ceb0d84a130e",
   "metadata": {},
   "source": [
    "Here, we can see that `md.geometry.surface`, `md.geometry.thickness`, and `md.geometry.base` are defined on vertices, as the shape of the fields is consistent with the number of vertices (`md.mesh.numberofvertices`) in the model (which is also consistent with the size of X and Y coordinates we extracted above)."
   ]
  },
  {
   "cell_type": "code",
   "execution_count": 7,
   "id": "fa062b75-e78e-47db-ad66-392478546ded",
   "metadata": {},
   "outputs": [
    {
     "name": "stdout",
     "output_type": "stream",
     "text": [
      "The model has 99870 vertices and 199226 elements.\n",
      "With 99870 values, the ice upper surface elevation is defined on model vertices\n"
     ]
    }
   ],
   "source": [
    "print(f'The model has {md.mesh.numberofvertices} vertices and {md.mesh.numberofelements} elements.')\n",
    "print(f'With {md.geometry.surface.shape[0]} values, the ice upper surface elevation is defined on model vertices')"
   ]
  },
  {
   "cell_type": "markdown",
   "id": "d8410670-6156-4945-a54d-d1440568cf41",
   "metadata": {},
   "source": [
    "Because data fields are stored as a `numpy.ndarray`, they can easily be interrogated. For example, we can calculate the mean surface elevation and range of ice thickness, like so:"
   ]
  },
  {
   "cell_type": "code",
   "execution_count": 8,
   "id": "819eba72-9176-4a0c-84a1-d68a43363f99",
   "metadata": {},
   "outputs": [
    {
     "name": "stdout",
     "output_type": "stream",
     "text": [
      "Mean ice surface elevation: 877.06\n",
      "Range of ice thickness: 1.0 to 4395.72.\n"
     ]
    }
   ],
   "source": [
    "print(f'Mean ice surface elevation: {np.round(md.geometry.surface.mean(), 2)}')\n",
    "print(f'Range of ice thickness: {np.round(md.geometry.thickness.min(), 2)} to {np.round(md.geometry.thickness.max(), 2)}.')"
   ]
  }
 ],
 "metadata": {
  "kernelspec": {
   "display_name": "Python 3 (ipykernel)",
   "language": "python",
   "name": "python3"
  },
  "language_info": {
   "codemirror_mode": {
    "name": "ipython",
    "version": 3
   },
   "file_extension": ".py",
   "mimetype": "text/x-python",
   "name": "python",
   "nbconvert_exporter": "python",
   "pygments_lexer": "ipython3",
   "version": "3.9.2"
  }
 },
 "nbformat": 4,
 "nbformat_minor": 5
}
