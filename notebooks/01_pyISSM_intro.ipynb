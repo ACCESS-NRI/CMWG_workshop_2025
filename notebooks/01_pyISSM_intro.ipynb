{
 "cells": [
  {
   "cell_type": "markdown",
   "id": "89b6735a-ca8f-4992-93ab-dcb8e9186d06",
   "metadata": {
    "tags": []
   },
   "source": [
    "# ACCESS-NRI 2025 -- CMWG Workshop \n",
    "# Introduction to pyISSM\n",
    "\n",
    "`pyISSM` is the Python API for the Ice-sheet and Sea-level System Model (ISSM) under development by ACCESS-NRI. This notebook provides an intial introduction to using pyISSM (v0.1) to load and navigate ISSM models.\n",
    "\n",
    "`pyISSM` contains 5 primary sub-modules:\n",
    "- `pyissm.plot`: Visualisation tools to support plotting of ISSM model components.\n",
    "- `pyissm.param`: All model sub-classes used to parameterise ISSM models.\n",
    "- `pyissm.data`: Tools for accessing and integrated common cryosphere-related datasets onto ISSM models.\n",
    "- `pyissm.model`: Tools for interacting with ISSM models, including model IO.\n",
    "- `pyissm.learn`: Tutorials and examples of working with ISSM models."
   ]
  },
  {
   "cell_type": "markdown",
   "id": "f1d269f4-2e74-4b40-9460-21c7bdeac340",
   "metadata": {},
   "source": [
    "<div class=\"alert alert-block alert-info\">\n",
    "<b>AIM:</b> This notebook focuses on exploring existing ISSM models using pyISSM to ensure users are familiar with ISSM model structures before continuing onto model visualisation.\n",
    "</div>"
   ]
  },
  {
   "cell_type": "code",
   "execution_count": null,
   "id": "089e2f5b-f0df-451e-9946-637fe58a1f0d",
   "metadata": {},
   "outputs": [],
   "source": [
    "# Import required modules\n",
    "import numpy as np\n",
    "\n",
    "# Import pyISSM\n",
    "# NOTE: Here, we assume that the `pyISSM` git repository has been cloned onto your machine. If `pyISSM` has been installed using `conda`, skip the `sys` calls.\n",
    "import sys\n",
    "import socket\n",
    "hostname = socket.gethostname()\n",
    "if 'gadi' in hostname:\n",
    "    sys.path.append('/home/565/lb9857/gitRepos/pyISSM/src/')\n",
    "else:\n",
    "    sys.path.append('/Users/lawrence.bird/pyISSM/src/')\n",
    "import pyissm"
   ]
  },
  {
   "cell_type": "markdown",
   "id": "1e3d95e3-7627-430c-9b51-e983ad98bf14",
   "metadata": {
    "tags": []
   },
   "source": [
    "# 1. pyISSM `Model()` Class"
   ]
  },
  {
   "cell_type": "markdown",
   "id": "f70101b1-3531-4399-bf53-2323c0cef8e6",
   "metadata": {},
   "source": [
    "`pyISSM` is developed around a central `Model()` class. Each Model contains a series of sub-classes that define model components and parameters (e.g. `mesh`, `geometry`). Each Model and sub-class contains detailed information that can be interrogated/explored interractively. \n",
    "\n",
    "Below, let's load an existing model and explore some of the sub-classes."
   ]
  },
  {
   "cell_type": "code",
   "execution_count": null,
   "id": "d3eb1ffc-8676-41e1-9c07-c96a22535d8b",
   "metadata": {},
   "outputs": [],
   "source": [
    "# Load an existing ISSM model onto md\n",
    "\n",
    "if 'gadi' in hostname:\n",
    "    # md = pyissm.model.io.load_model('/g/data/nf33/access-nri/CMWG_workshop_2025/sample_models/Greenland.HistoricTransient_200yr.nc')\n",
    "    md = pyissm.model.io.load_model('/g/data/nf33/access-nri/CMWG_workshop_2025/sample_models/zrun_yearly_aSMB_HadGEM2_ctrl_2300_again.nc')\n",
    "else:\n",
    "    md = pyissm.model.io.load_model('/Users/lawrence.bird/access-dev/sampleModels/Greenland.HistoricTransient_200yr.nc')"
   ]
  },
  {
   "cell_type": "markdown",
   "id": "b614de7a-146e-44a7-9bee-66c643055e8b",
   "metadata": {},
   "source": [
    "<div class=\"alert alert-block alert-warning\">\n",
    "<b>Backwards-compatability:</b> A series of informative warnings are provided. These highlight \"re-mapping\" that is completed to ensure backwards-compatibility with ISSM models developed using legacy Python infrastructure and in MATLAB. Any sub-classes that are not yet implemented in pyISSM are highlighted (e.g. verbose, toolkits, generic). Any classes that are missing in the model file are highlighted (e.g. basalforcings).\n",
    "</div>"
   ]
  },
  {
   "cell_type": "code",
   "execution_count": null,
   "id": "4116fad7-0f4a-41a7-97be-5c7765e47915",
   "metadata": {},
   "outputs": [],
   "source": [
    "# Simply examining the md object reveals the sub-classes included in all ISSM models.\n",
    "\n",
    "md"
   ]
  },
  {
   "cell_type": "markdown",
   "id": "34d9ac89-48aa-43c4-9bf4-0c9d236d42a8",
   "metadata": {
    "tags": []
   },
   "source": [
    "# 2. `pyISSM` Model sub-classes\n",
    "\n",
    "Above, we can see that the ISSM `Model()` class comprises 43 model sub-classes. Each sub-class contains specific model parameters and settings that control the model behaviour. For example, `md.mesh` contains all of the mesh parameters and `md.geometry` contains all of the initial geometry fields (e.g. bed topography, surface elevation, ice thickness etc.).\n",
    "\n",
    "Parameters within each model subclass are assigned/accessed using standard `.` notation. For example, bed topography can be assigned/accessed as `md.geometry.bed` and the ice thickness can be assigned/accessed as `md.geometry.thickness`.\n",
    "\n",
    "Most data fields contained in model sub-classes are `numpy.ndarray` classes under-the-hood. This ensures they're easily accessible and can be manipulated with other popular Python modules.\n",
    "\n",
    "Let's explore a few different model sub-classes in the cells below."
   ]
  },
  {
   "cell_type": "markdown",
   "id": "317289f8-7277-4f27-94f2-0d3cd171cece",
   "metadata": {},
   "source": [
    "## 2.1 `md.mesh`\n",
    "\n",
    "Let's review the `md.mesh` sub-class. Accessing the `md.mesh` sub-class shows the parameters/data fields available and their associated shape/size or scalar value."
   ]
  },
  {
   "cell_type": "code",
   "execution_count": null,
   "id": "60fcd2f5-e91f-4d6d-82ab-d41e45f38f02",
   "metadata": {},
   "outputs": [],
   "source": [
    "# Access the model mesh\n",
    "md.mesh"
   ]
  },
  {
   "cell_type": "markdown",
   "id": "5441ffed-b141-4b9f-92d4-4d39fdfae1a7",
   "metadata": {},
   "source": [
    "Within ISSM, data fields are typically defined on model vertices, or model elements. Above, we see that this model has 199,226 elements and 99,870 elements. The vertices are defined by the X and Y coordinates.\n",
    "\n",
    "We can extract the X/Y coordinates as numpy arrays:"
   ]
  },
  {
   "cell_type": "code",
   "execution_count": null,
   "id": "e6f5a22d-5afd-401b-b395-d3077d45a9a2",
   "metadata": {},
   "outputs": [],
   "source": [
    "# Extract the X and Y coordinates from the model mesh\n",
    "x = md.mesh.x\n",
    "y = md.mesh.y\n",
    "\n",
    "# The extracted coordinates are simply numpy arrays\n",
    "print(f'Model x-coordinates [m]: {x}\\n')\n",
    "print(f'Model y-coordinates [m]: {y}')"
   ]
  },
  {
   "cell_type": "markdown",
   "id": "ce658a85-5410-421c-8536-712b87020f95",
   "metadata": {},
   "source": [
    "## 2.2 `md.geometry`\n",
    "\n",
    "Let's review the `md.geometrty` sub-class. Accessing the `md.geometry` sub-class shows the parameters/data fields available and their associated shape/size."
   ]
  },
  {
   "cell_type": "code",
   "execution_count": null,
   "id": "21aed277-703d-4e5d-bc1b-dd8463a1246e",
   "metadata": {},
   "outputs": [],
   "source": [
    "md.geometry"
   ]
  },
  {
   "cell_type": "markdown",
   "id": "a5ed9a99-d95e-4869-8ef9-ceb0d84a130e",
   "metadata": {},
   "source": [
    "Here, we can see that `md.geometry.surface`, `md.geometry.thickness`, and `md.geometry.base` are defined on vertices, as the shape of the fields is consistent with the number of vertices (`md.mesh.numberofvertices`) in the model (which is also consistent with the size of X and Y coordinates we extracted above)."
   ]
  },
  {
   "cell_type": "code",
   "execution_count": null,
   "id": "fa062b75-e78e-47db-ad66-392478546ded",
   "metadata": {},
   "outputs": [],
   "source": [
    "print(f'The model has {md.mesh.numberofvertices} vertices and {md.mesh.numberofelements} elements.')\n",
    "print(f'With {md.geometry.surface.shape[0]} values, the ice upper surface elevation is defined on model vertices')"
   ]
  },
  {
   "cell_type": "markdown",
   "id": "d8410670-6156-4945-a54d-d1440568cf41",
   "metadata": {},
   "source": [
    "Because data fields are stored as a `numpy.ndarray`, they can easily be interrogated. For example, we can calculate the mean surface elevation and range of ice thickness, like so:"
   ]
  },
  {
   "cell_type": "code",
   "execution_count": null,
   "id": "819eba72-9176-4a0c-84a1-d68a43363f99",
   "metadata": {},
   "outputs": [],
   "source": [
    "print(f'Mean ice surface elevation: {np.round(md.geometry.surface.mean(), 2)}')\n",
    "print(f'Range of ice thickness: {np.round(md.geometry.thickness.min(), 2)} to {np.round(md.geometry.thickness.max(), 2)}.')"
   ]
  }
 ],
 "metadata": {
  "kernelspec": {
   "display_name": "Python 3 (ipykernel)",
   "language": "python",
   "name": "python3"
  },
  "language_info": {
   "codemirror_mode": {
    "name": "ipython",
    "version": 3
   },
   "file_extension": ".py",
   "mimetype": "text/x-python",
   "name": "python",
   "nbconvert_exporter": "python",
   "pygments_lexer": "ipython3",
   "version": "3.9.2"
  }
 },
 "nbformat": 4,
 "nbformat_minor": 5
}
