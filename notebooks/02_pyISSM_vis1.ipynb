{
 "cells": [
  {
   "cell_type": "markdown",
   "id": "3f2934cf-f74c-442c-a27e-abd588208004",
   "metadata": {},
   "source": [
    "# ACCESS-NRI 2025 -- CMWG Workshop \n",
    "\n",
    "# Visualising ISSM Models - *Part 1*\n",
    "\n",
    "`pyISSM` has a series of efficient visualisation tools, accessible via the `pyissm.plot` submodule. Key visualisation tools currently include:\n",
    "- Mesh visualisation\n",
    "- Boundary conditions\n",
    "- 2D field visualisation (input and results)\n",
    "- Transient results (1D and 2D)\n",
    "\n",
    "All pyISSM visualisation capabilities leverage existing Python modules (e.g. `matplotlib` and `xarray`). Users can create complete complex and publication-ready figures using familiar syntax. By default, all `pyISSM` visualisation functions return a figure and set of axes, consistent with `matplotlib.pyplot.subplots()`. Optionally, an existing axes object can be passed to the `pyISSM` function for more refined control of plotting."
   ]
  },
  {
   "cell_type": "markdown",
   "id": "4cf386d9-ed3f-4d23-a432-2b8fc317b221",
   "metadata": {},
   "source": [
    "<div class=\"alert alert-block alert-info\">\n",
    "<b>AIM:</b> This notebook focuses on visualising ISSM model meshes, element/node types, and model boundary conditions using pyISSM.\n",
    "</div>"
   ]
  },
  {
   "cell_type": "code",
   "execution_count": null,
   "id": "3cda00c7-2a51-49a9-b78f-5ecbfe398a17",
   "metadata": {},
   "outputs": [],
   "source": [
    "# Import required modules\n",
    "import matplotlib.pyplot as plt\n",
    "import matplotlib.patches\n",
    "\n",
    "# Import pyISSM\n",
    "# NOTE: Here, we assume that the `pyISSM` git repository has been cloned onto your machine. If `pyISSM` has been installed using `conda`, skip the `sys` calls.\n",
    "import sys\n",
    "import socket\n",
    "hostname = socket.gethostname()\n",
    "if 'gadi' in hostname:\n",
    "    sys.path.append('/home/565/lb9857/gitRepos/pyISSM/src/')\n",
    "else:\n",
    "    sys.path.append('/Users/lawrence.bird/pyISSM/src/')\n",
    "    import matplotlib\n",
    "    matplotlib.use('MacOSX')\n",
    "    %matplotlib inline\n",
    "import pyissm"
   ]
  },
  {
   "cell_type": "code",
   "execution_count": null,
   "id": "2f13e7eb-45b2-4e3f-88b1-a795533db171",
   "metadata": {},
   "outputs": [],
   "source": [
    "# Load an existing ISSM model onto md\n",
    "\n",
    "if 'gadi' in hostname:\n",
    "    md = pyissm.model.io.load_model('/home/565/lb9857/gitRepos/CMWG_workshop_2025/sampleModels/Greenland.HistoricTransient_200yr.nc')\n",
    "else:\n",
    "    md = pyissm.model.io.load_model('/Users/lawrence.bird/access-dev/sampleModels/Greenland.HistoricTransient_200yr.nc')"
   ]
  },
  {
   "cell_type": "markdown",
   "id": "cc0212a2-82f9-4a6b-9f56-70154d5a082b",
   "metadata": {},
   "source": [
    "## 1. Visualise the model mesh\n",
    "\n",
    "ISSM uses a triangular mesh that can include anistropy. To visualise this, `pyISSM` leverages the `matplotlib.pyplot.triplot` library.\n",
    "\n",
    "Before visualising the mesh, we need to process the model to generate a compatible trinagulation object. We can efficiently extract all required components of the mesh using `pyissm.model.mesh.process_mesh()`.\n",
    "\n",
    "Below, let's process the mesh and make a simple plot of the model mesh."
   ]
  },
  {
   "cell_type": "markdown",
   "id": "713b0991-34ff-4ab0-bad4-b7dcf626db2e",
   "metadata": {},
   "source": [
    "<div class=\"alert alert-block alert-warning\">\n",
    "<b>3D Models:</b> ISSM supports computation of 3D models. However, pyISSM does not yet support full-visualisation of 3D models. When visualising a 3D model, pyISSM will display the 2D projection of the mesh by default.\n",
    "</div>"
   ]
  },
  {
   "cell_type": "code",
   "execution_count": null,
   "id": "7c15be55-3c5f-4d80-8d20-7d027cfc20b6",
   "metadata": {},
   "outputs": [],
   "source": [
    "# Extract the mesh information from the model, creating the necessary matplotlib.tri.triangulation.Triangulation object\n",
    "mesh, mesh_x, mesh_y, mesh_elements, is3d = pyissm.model.mesh.process_mesh(md)\n",
    "\n",
    "# Visualise the model mesh (pyISSM default)\n",
    "fig, ax = pyissm.plot.plot_mesh2d(mesh, figsize = (4, 6))"
   ]
  },
  {
   "cell_type": "markdown",
   "id": "82f89d51-c079-4b21-acb9-502db572fde9",
   "metadata": {},
   "source": [
    "By default, `pyISSM` returns a Figure and Axis object, visualising the mesh, and assigns X and Y labels. We can provide custom X/Y labels directly to the `pyissm.plot.plot.mesh_2d()` function. All components of these Figure and Axis objects can be altered using standard `matplotlib` functionality.\n",
    "\n",
    "For example, we can modify the axes labels, tick marks/units, and add a title as follows:"
   ]
  },
  {
   "cell_type": "code",
   "execution_count": null,
   "id": "b800ba3b-55af-4e11-829a-bb40af703df1",
   "metadata": {},
   "outputs": [],
   "source": [
    "# Visualise the model mesh (pyISSM default)\n",
    "fig, ax = pyissm.plot.plot_mesh2d(mesh, figsize = (4, 6),\n",
    "                                  xlabel = 'Model X coordinate (km)',\n",
    "                                  ylabel = 'Model Y coordinate (km)')\n",
    "\n",
    "# Adjust the X/Y ticks\n",
    "ax.set_xticks([-5*1e5, 0, 5*1e5])\n",
    "ax.set_xticklabels(['-500', '0', '500'])\n",
    "ax.set_yticks([-1*1e6, -2*1e6, -3*1e6])\n",
    "ax.set_yticklabels(['-1000', '-2000', '-3000'])\n",
    "\n",
    "# Add title\n",
    "plt.title('Model mesh')\n",
    "\n",
    "plt.show()"
   ]
  },
  {
   "cell_type": "markdown",
   "id": "0381813c-f1e7-4d16-a84c-a41ccefc556f",
   "metadata": {},
   "source": [
    "We can add additional complexity to this plot by passing additional arguments to the `pyissm.plot.plot_mesh2d()` command. Below, we generate a 3 panel plot, each with additional complexity. Comments in the below cell provide a description of the functionality added to each subplot."
   ]
  },
  {
   "cell_type": "code",
   "execution_count": null,
   "id": "cff5e8f7-3950-425b-9840-9fedf6c0db7e",
   "metadata": {},
   "outputs": [],
   "source": [
    "# Generate a 3-panel figure, with shared X/Y axes, constrained layout, and custom figure size\n",
    "fig, (ax1, ax2, ax3) = plt.subplots(1, 3, figsize = (12,6), sharex = True, sharey = True, constrained_layout = True)\n",
    "\n",
    "## Panel 1\n",
    "# Add 'nodes' to show the X/Y vertices defined in md.mesh.x and md.mesh.y. Provide empty xlabel to turn this off.\n",
    "ax1 = pyissm.plot.plot_mesh2d(mesh,\n",
    "                              ax = ax1,\n",
    "                              show_nodes = True,\n",
    "                              ylabel = 'Model Y coordinate (km)',\n",
    "                              xlabel = '')\n",
    "\n",
    "## Panel 2\n",
    "# Change the color and thickness of the mesh lines. Provide an empty ylabel to turn this off.\n",
    "ax2 = pyissm.plot.plot_mesh2d(mesh,\n",
    "                              ax = ax2,\n",
    "                              show_nodes = True,\n",
    "                              color = 'red',\n",
    "                              linewidth = 1.1,\n",
    "                              ylabel = '',\n",
    "                              xlabel = 'Model X coordinate (km)')\n",
    "\n",
    "## Panel 3\n",
    "# Change the color, shape, and size of the nodes. Provide an empty xlabel and ylabel to turn these off.\n",
    "ax3 = pyissm.plot.plot_mesh2d(mesh,\n",
    "                              ax = ax3,\n",
    "                              show_nodes = True,\n",
    "                              color = 'red',\n",
    "                              linewidth = 1.1,\n",
    "                              node_args = {'color': 'blue',\n",
    "                                           'marker': '*',\n",
    "                                           's': 20},\n",
    "                              ylabel = '',\n",
    "                              xlabel = '')\n",
    "\n",
    "# Adjust the X/Y ticks (only need to adjust ax1 as all subplots share X/Y axes)\n",
    "ax1.set_xticks([-5*1e5, 0, 5*1e5])\n",
    "ax1.set_xticklabels(['-500', '0', '500'])\n",
    "ax1.set_yticks([-1*1e6, -2*1e6, -3*1e6])\n",
    "ax1.set_yticklabels(['-1000', '-2000', '-3000'])\n",
    "\n",
    "plt.show()"
   ]
  },
  {
   "cell_type": "markdown",
   "id": "b46a27da-6dbc-4fee-a6f1-2eadfae7c27f",
   "metadata": {},
   "source": [
    "Because `pyISSM` returns `matplotlib` Figure and Axis objects, it's easy to add additional detail to the plots. Let's create a 2-panel plot with a zoomed region."
   ]
  },
  {
   "cell_type": "code",
   "execution_count": null,
   "id": "552167dc-09d8-4798-bad2-b265b228b31a",
   "metadata": {},
   "outputs": [],
   "source": [
    "# Define a region for the Zoom (xmin, xmax, ymin, ymax)\n",
    "zoom_region = [2*1e5, 6.5*1e5, -2.5*1e6, -2*1e6]\n",
    "\n",
    "# Create a Rectangle object\n",
    "rect = matplotlib.patches.Rectangle((zoom_region[0], zoom_region[2]),\n",
    "                                    zoom_region[1] - zoom_region[0],\n",
    "                                    zoom_region[3] - zoom_region[2],\n",
    "                                    linewidth = 1,\n",
    "                                    edgecolor = 'red',\n",
    "                                    facecolor = 'none')\n",
    "\n",
    "# Create 2-panel subplots\n",
    "fig, (ax1, ax2) = plt.subplots(1, 2, figsize = (10,7), constrained_layout = True)\n",
    "\n",
    "# Add default pyISSM mesh plot to ax1 and add Rectangle object\n",
    "ax1 = pyissm.plot.plot_mesh2d(mesh,\n",
    "                              ax = ax1,\n",
    "                              ylabel = 'Model Y coordinate (km)',\n",
    "                              xlabel = 'Model X coordinate (km)')\n",
    "ax1.add_patch(rect)\n",
    "\n",
    "# Add customised mesh plot to ax2\n",
    "ax2 = pyissm.plot.plot_mesh2d(mesh,\n",
    "                              ax = ax2,\n",
    "                              show_nodes = True,\n",
    "                              node_args = {'color': 'red',\n",
    "                                           's': 20},\n",
    "                              ylabel = '',\n",
    "                              xlabel = 'Model X coordinate (km)')\n",
    "\n",
    "# Adjust the X/Y limits of ax2\n",
    "ax2.set_xlim(zoom_region[0], zoom_region[1])\n",
    "ax2.set_ylim(zoom_region[2], zoom_region[3])\n",
    "\n",
    "# Adjust X/Y ticks on ax1 and ax2\n",
    "ax1.set_xticks([-5*1e5, 0, 5*1e5])\n",
    "ax1.set_xticklabels(['-500', '0', '500'])\n",
    "ax1.set_yticks([-1*1e6, -2*1e6, -3*1e6])\n",
    "ax1.set_yticklabels(['-1000', '-2000', '-3000'])\n",
    "\n",
    "ax2.set_xticks([2*1e5, 4*1e5, 6*1e5])\n",
    "ax2.set_xticklabels(['200', '400', '600'])\n",
    "ax2.set_yticks([-2*1e6, -2.2*1e6, -2.4*1e6])\n",
    "ax2.set_yticklabels(['-2000', '-2200', '-2400'])\n",
    "\n",
    "plt.show()"
   ]
  },
  {
   "cell_type": "markdown",
   "id": "2b25ddc8-3f72-4294-9c24-f08a78c5781c",
   "metadata": {},
   "source": [
    "# 2. Visualise model node and element types\n",
    "\n",
    "ISSM models use two `mask` objects to define the presence of ice and ocean:\n",
    "- `md.mask.ice_levelset`: presence of ice if < 0, icefront position if = 0, no ice if > 0\n",
    "- `md.mask.ocean_levelset`: presence of ocean if < 0, coastline/grounding line if = 0, no ocean if > 0\n",
    "\n",
    "Leveraging these masks, we can identify different node/element types, including the ice-front and grounding line positions. In `pyISSM`, we can interogate different model element types using `pyissm.plot.plot_model_elements()` and different node types using `pyissm.plot.plot_model_nodes()`.\n",
    "\n",
    "Below, let's plot different element and node types for this model."
   ]
  },
  {
   "cell_type": "markdown",
   "id": "0132f714-e197-4f33-86fe-19fa972aa9c6",
   "metadata": {},
   "source": [
    "## 2.1 Model element types\n",
    "\n",
    "During model development, it's important to ensure that particularly the ice front is correctly defined as this has implications on boundary conditions within the model. `pyissm.plot.plot_model_elements()` can display various elements types:\n",
    "- `ice_elements`: All elements that are ice covered (grounded or floating)\n",
    "- `ice_front_elements`: All elements that are along the ice front\n",
    "- `ocean_elements`: All elements that contain ocean (either open ocean or floating ice)\n",
    "- `floating_ice_elements`: All elements that contain floating ice\n",
    "- `grounded_ice_elements`: All elements that contain grounded ice\n",
    "- `grounding_line_elements`: All elements that are along the grounding line\n",
    "\n",
    "Below, let's visualise all elements that are ice covered and those along the ice front."
   ]
  },
  {
   "cell_type": "code",
   "execution_count": null,
   "id": "407d6bb8-ab27-42b3-ad97-39ea1e50c88a",
   "metadata": {},
   "outputs": [],
   "source": [
    "fig, (ax1, ax2) = plt.subplots(1, 2, sharex = True, sharey = True, figsize = (10, 7), constrained_layout = True)\n",
    "\n",
    "# By default, 'ice_elements' are plotted.\n",
    "ax1 = pyissm.plot.plot_model_elements(md,\n",
    "                                      md.mask.ice_levelset,\n",
    "                                      md.mask.ocean_levelset,\n",
    "                                      ax = ax1)\n",
    "\n",
    "# Show elements on the ice-front.\n",
    "ax2 = pyissm.plot.plot_model_elements(md,\n",
    "                                      md.mask.ice_levelset,\n",
    "                                      md.mask.ocean_levelset,\n",
    "                                      ax = ax2,\n",
    "                                      type = 'ice_front_elements',\n",
    "                                      legend_args = {'loc': 'lower right'})\n",
    "\n",
    "plt.show()"
   ]
  },
  {
   "cell_type": "markdown",
   "id": "bf7f7ca4-4238-44be-9b1f-6c34fb4832bc",
   "metadata": {},
   "source": [
    "## 2.2 Model node types\n",
    "\n",
    "Since `md.mask` objects are defined on vertices, it can be useful to visualise similar information to the elements above, but for the model vertices. `pyissm.plot.plot_model_nodes()` can display the following node types:\n",
    "- `ice_nodes`: All nodes defined as ice\n",
    "- `ice_front_nodes`: Any nodes explicitly defined as the ice front\n",
    "- `ocean_nodes`: All nodes that contain ocean (either open ocean or floating ice)\n",
    "- `floating_ice_nodes`: All nodes that contain floating ice\n",
    "- `grounded_ice_nodes`: All nodes that contain grounded ice\n",
    "\n",
    "Below, let's visualise all nodes that are ice covered and those along the ice front."
   ]
  },
  {
   "cell_type": "code",
   "execution_count": null,
   "id": "14dd9812-e3d1-4181-8543-262329d0af8e",
   "metadata": {},
   "outputs": [],
   "source": [
    "fig, (ax1, ax2) = plt.subplots(1, 2, sharex = True, sharey = True, figsize = (10, 7), constrained_layout = True)\n",
    "\n",
    "# By default, 'ice_elements' are plotted.\n",
    "ax1 = pyissm.plot.plot_model_nodes(md,\n",
    "                                   md.mask.ice_levelset,\n",
    "                                   md.mask.ocean_levelset,\n",
    "                                   ax = ax1)\n",
    "\n",
    "# Show elements on the ice-front.\n",
    "ax2 = pyissm.plot.plot_model_nodes(md,\n",
    "                                   md.mask.ice_levelset,\n",
    "                                   md.mask.ocean_levelset,\n",
    "                                   ax = ax2,\n",
    "                                   type = 'ice_front_nodes',\n",
    "                                   legend_args = {'loc': 'lower right'})\n",
    "\n",
    "plt.show()"
   ]
  },
  {
   "cell_type": "markdown",
   "id": "8273c38b-3f33-4d8b-b998-a28ea000c1e2",
   "metadata": {},
   "source": [
    "## 3. Model boundary conditions\n",
    "\n",
    "Correctly defining boundary conditions within ISSM is critical to providing reliable model results. Boundary conditions are generally defined using parameters prepended with `spc` (e.g. `md.stressbalance.spcvx` defines x-component velocity constraints for the stressbalance). `pyissm.plot.plot_model_bc()` provides a convenient tool to visualise such boundary conditions.\n",
    "\n",
    "Below, let's plot the boundary conditions for the stressbalance solution in ISSM.\n",
    "\n",
    "Boundary conditions/constraints for other solutions can be plotted by providing the following types (solutions):\n",
    "- `stressbalance`: Stress balance boundary conditions (Default)\n",
    "- `masstransport`: Mass transport constraints\n",
    "- `thermal`: Thermal constraints\n",
    "- `balancethickness`: Balance thickness constraints\n",
    "- `debris`: Debris constraints\n",
    "- `levelset`: Levelset constraints"
   ]
  },
  {
   "cell_type": "code",
   "execution_count": null,
   "id": "d2d4e94c-d074-458f-a715-22a678c4302f",
   "metadata": {},
   "outputs": [],
   "source": [
    "fig, ax = pyissm.plot.plot_model_bc(md,\n",
    "                                    figsize = (5, 7),\n",
    "                                    legend_args = {'loc': 'lower right'})\n",
    "\n",
    "plt.show()"
   ]
  }
 ],
 "metadata": {
  "kernelspec": {
   "display_name": "Python 3 (ipykernel)",
   "language": "python",
   "name": "python3"
  },
  "language_info": {
   "codemirror_mode": {
    "name": "ipython",
    "version": 3
   },
   "file_extension": ".py",
   "mimetype": "text/x-python",
   "name": "python",
   "nbconvert_exporter": "python",
   "pygments_lexer": "ipython3",
   "version": "3.9.2"
  }
 },
 "nbformat": 4,
 "nbformat_minor": 5
}
