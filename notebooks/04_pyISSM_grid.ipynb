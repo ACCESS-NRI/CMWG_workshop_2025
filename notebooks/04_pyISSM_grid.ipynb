{
 "cells": [
  {
   "cell_type": "markdown",
   "id": "cde9253a",
   "metadata": {},
   "source": [
    "# ACCESS-NRI 2025 -- CMWG Workshop \n",
    "\n",
    "# Exporting ISSM Models\n",
    "\n",
    "`pyISSM` allows ISSM models to be conveniently exported to regular gridded NetCDF using `pyissm.model.io.export_gridded_model()`. This function accepts an optional `variable_map` that defines variable names to be used for the exported fields. By default, this mapping uses the ISMIP6 variable naming convention.\n",
    "\n",
    "Below we provide an example of exporting select model fields to a regular grid."
   ]
  },
  {
   "cell_type": "markdown",
   "id": "355d7a26",
   "metadata": {},
   "source": [
    "<div class=\"alert alert-block alert-info\">\n",
    "<b>AIM:</b> This notebook demonstrates the gridded export of an existing ISSM model.\n",
    "</div>"
   ]
  },
  {
   "cell_type": "code",
   "execution_count": null,
   "id": "50e6b3f5",
   "metadata": {},
   "outputs": [],
   "source": [
    "# Import required modules\n",
    "import numpy as np\n",
    "import pandas as pd\n",
    "import xarray as xr\n",
    "import matplotlib.pyplot as plt\n",
    "\n",
    "\n",
    "# Import pyISSM\n",
    "# NOTE: Here, we assume that the `pyISSM` git repository has been cloned onto your machine. If `pyISSM` has been installed using `conda`, skip the `sys` calls.\n",
    "import sys\n",
    "import socket\n",
    "hostname = socket.gethostname()\n",
    "if 'gadi' in hostname:\n",
    "    sys.path.append('/home/565/lb9857/gitRepos/pyISSM/src/')\n",
    "else:\n",
    "    sys.path.append('/Users/lawrence.bird/pyISSM/src/')\n",
    "    import matplotlib\n",
    "    matplotlib.use('MacOSX')\n",
    "    %matplotlib inline\n",
    "import pyissm"
   ]
  },
  {
   "cell_type": "code",
   "execution_count": null,
   "id": "d568c52c",
   "metadata": {},
   "outputs": [],
   "source": [
    "# Load an existing ISSM model onto md\n",
    "\n",
    "if 'gadi' in hostname:\n",
    "    md = pyissm.model.io.load_model('/home/565/lb9857/gitRepos/CMWG_workshop_2025/sampleModels/Greenland.HistoricTransient_200yr.nc')\n",
    "else:\n",
    "    md = pyissm.model.io.load_model('/Users/lawrence.bird/access-dev/sampleModels/Greenland.HistoricTransient_200yr.nc')"
   ]
  },
  {
   "cell_type": "markdown",
   "id": "2688af68",
   "metadata": {},
   "source": [
    "## 1. Define a grid for interpolation\n",
    "\n",
    "The first required step is to define a regular grid onto which the ISSM model is interpolated. This can be defined in a number of different ways. Below, we provide an efficient approach to generate a 5 km x 5 km grid."
   ]
  },
  {
   "cell_type": "code",
   "execution_count": null,
   "id": "0fbdec0a",
   "metadata": {},
   "outputs": [],
   "source": [
    "# Define the resolution of the grid\n",
    "x_resolution = 5000\n",
    "y_resolution = 5000\n",
    "\n",
    "# Define a regular grid\n",
    "grid_x = np.arange(md.mesh.x.min(), md.mesh.x.max(), x_resolution)\n",
    "grid_y = np.arange(md.mesh.y.min(), md.mesh.y.max(), y_resolution)\n",
    "grid_x, grid_y = np.meshgrid(grid_x, grid_y)\n",
    "\n",
    "# Check the dimensions of the grid\n",
    "print(f'Dimension of grid_x object: {grid_x.shape}')\n",
    "print(f'Dimension of grid_y object: {grid_y.shape}')\n",
    "\n",
    "# Calculate the grid size in km\n",
    "print(f'Grid size in X direction (km): {(grid_x[0,-1] - grid_x[0, 0]) / 1000}')\n",
    "print(f'Grid size in Y direction (km): {(grid_y[-1,0] - grid_y[0, 0]) / 1000}')"
   ]
  },
  {
   "cell_type": "markdown",
   "id": "6918f851",
   "metadata": {},
   "source": [
    "## 2. Define a variable map of desired variables to export (optional)\n",
    "\n",
    "Once a regular grid has been defined, select model fields can be interpolated onto the grid and saved to NetCDF file using the `pyissm.model.io.export_gridded_model()` function. By default, `pyISSM` exports common input and output fields, as well as some ISMIP6-calculated fields.\n",
    "\n",
    "To export only specific fields, users can supply a custom `variable_map` either as a `*.csv` file, or a `pd.Dataframe()`. For example, to export only the ice surface elevation and ice base elevation, the `variable_map` can be constructed as follows:"
   ]
  },
  {
   "cell_type": "code",
   "execution_count": null,
   "id": "9061529a",
   "metadata": {},
   "outputs": [],
   "source": [
    "# Define a variable map for exporting specific fields from the ISSM model\n",
    "var_map = {\n",
    "    'issmModelGroup': ['geometry', 'geometry'],\n",
    "    'issmModelSubgroup': [np.nan, np.nan],\n",
    "    'issmVariableName': ['surface', 'base'],\n",
    "    'issmVariableUnit': ['m', 'm'],\n",
    "    'outputVariableName': ['init_surface_altitude', 'init_base_altitude'],\n",
    "    'outputVariableLongName': ['Initial ice surface altitude', 'Initial ice base altitude'],\n",
    "    'outputVariableUnit': ['m', 'm']\n",
    "}\n",
    "\n",
    "# Convert the variable map to a pandas DataFrame\n",
    "var_map = pd.DataFrame(var_map)\n",
    "\n",
    "# View the variable map\n",
    "var_map"
   ]
  },
  {
   "cell_type": "markdown",
   "id": "50913511",
   "metadata": {},
   "source": [
    "## 3. Export gridded model\n",
    "\n",
    "Once the grid and [optional] variable map have been defined, the model can be exported simply using `pyissm.model.io.export_gridded_model()`. This generates a NetCDF file that can be used for additional analysis."
   ]
  },
  {
   "cell_type": "code",
   "execution_count": null,
   "id": "329d210b",
   "metadata": {},
   "outputs": [],
   "source": [
    "# Export the selecte model fields onto the defined grid\n",
    "pyissm.model.io.export_gridded_model(md,\n",
    "                                     out_file = 'Greenland.HistoricTransient_200yr_grid.nc',\n",
    "                                     grid_x = grid_x,\n",
    "                                     grid_y = grid_y,\n",
    "                                     variable_map = var_map)"
   ]
  },
  {
   "cell_type": "markdown",
   "id": "d0e8b2e7",
   "metadata": {},
   "source": [
    "---\n",
    "# Visualising the gridded model\n",
    "\n",
    "Once the model has been exported, it can be visualised and analysed with other common Python modules, such as `Xarray`. Below, we load the gridded model using `xarray`, examine it, and plot it along-side the original ISSM model."
   ]
  },
  {
   "cell_type": "code",
   "execution_count": null,
   "id": "03247922",
   "metadata": {},
   "outputs": [],
   "source": [
    "# Load the gridded model\n",
    "md_gridded = xr.open_dataset('Greenland.HistoricTransient_200yr_grid.nc')\n",
    "\n",
    "# Examine the gridded model\n",
    "md_gridded\n"
   ]
  },
  {
   "cell_type": "code",
   "execution_count": null,
   "id": "3268f186",
   "metadata": {},
   "outputs": [],
   "source": [
    "# Initialise a matplotlib figure with two subplots\n",
    "fig, (ax1, ax2) = plt.subplots(1, 2, figsize=(10, 5), sharex=True, sharey=True)\n",
    "\n",
    "# Plot the ISSM model surface elevation\n",
    "ax1 = pyissm.plot.plot_model_field(md,\n",
    "                                   md.geometry.surface,\n",
    "                                   ax = ax1,\n",
    "                                   show_cbar = True,\n",
    "                                   cbar_args = {'label': 'Surface elevation (m)'})\n",
    "\n",
    "# Plot the gridded model surface elevation\n",
    "md_gridded.init_surface_altitude.plot(ax = ax2,\n",
    "                                      cbar_kwargs = {'label': 'Surface elevation (m)'}) \n",
    "\n",
    "# Set titles for the subplots\n",
    "ax1.set_title('Surface elevation\\n(ISSM Model mesh)', fontsize = 10)\n",
    "ax2.set_title('Surface elevation\\n(Gridded model)', fontsize = 10)\n",
    "\n",
    "# Adjust the X/Y ticks (only need to adjust ax1 as all subplots share X/Y axes)\n",
    "ax1.set_xticks([-5*1e5, 0, 5*1e5])\n",
    "ax1.set_xticklabels(['-500', '0', '500'])\n",
    "ax1.set_yticks([-1*1e6, -2*1e6, -3*1e6])\n",
    "ax1.set_yticklabels(['-1000', '-2000', '-3000'])\n",
    "\n",
    "# Adjust the axis labels\n",
    "ax2.set_xlabel('X (km)')\n",
    "ax2.set_ylabel('')"
   ]
  },
  {
   "cell_type": "code",
   "execution_count": null,
   "id": "ff21fb63",
   "metadata": {},
   "outputs": [],
   "source": [
    "print(f'The maximum ice surface elevation in the native ISSM model is: {np.round(md.geometry.surface.max(), 2)} m')\n",
    "print(f'The maximum ice surface elevation in the gridded model is: {np.round(float(md_gridded.init_surface_altitude.max()), 2)} m')"
   ]
  }
 ],
 "metadata": {
  "kernelspec": {
   "display_name": "Python 3",
   "language": "python",
   "name": "python3"
  },
  "language_info": {
   "codemirror_mode": {
    "name": "ipython",
    "version": 3
   },
   "file_extension": ".py",
   "mimetype": "text/x-python",
   "name": "python",
   "nbconvert_exporter": "python",
   "pygments_lexer": "ipython3",
   "version": "3.9.22"
  }
 },
 "nbformat": 4,
 "nbformat_minor": 5
}
